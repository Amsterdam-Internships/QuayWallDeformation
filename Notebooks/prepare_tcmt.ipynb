{
 "cells": [
  {
   "cell_type": "markdown",
   "id": "a18d0c79",
   "metadata": {},
   "source": [
    "This Notebook prepares the tacheometry data to serve as input for the models. The notebook takes input from tacheometry_raw.csv, outputted by LoadTacheometry.ipynb. This notebook mainly removes outliers, aggregates the data per month, and interpolates for missing months. It outputs a csv file for X, Y, and Z."
   ]
  },
  {
   "cell_type": "code",
   "execution_count": 39,
   "id": "449251c8",
   "metadata": {},
   "outputs": [],
   "source": [
    "import pandas as pd\n",
    "import geopandas as gpd\n",
    "import numpy as np\n",
    "import matplotlib.pyplot as plt\n",
    "import contextily as cx\n",
    "import shapely.geometry as sg\n",
    "from datetime import datetime \n",
    "import seaborn as sns\n",
    "import ast\n",
    "import folium\n",
    "import os\n",
    "from tqdm import tqdm"
   ]
  },
  {
   "cell_type": "code",
   "execution_count": 40,
   "id": "537accd8",
   "metadata": {},
   "outputs": [],
   "source": [
    "df_tcmt = pd.read_csv('../Data/Tacheometry_raw.csv', index_col=0)"
   ]
  },
  {
   "cell_type": "code",
   "execution_count": 49,
   "id": "9d86196e",
   "metadata": {},
   "outputs": [],
   "source": [
    "# get only the timeseries\n",
    "df_tcmt_vals = df_tcmt.iloc[:,3:]"
   ]
  },
  {
   "cell_type": "code",
   "execution_count": 50,
   "id": "2790aac6",
   "metadata": {},
   "outputs": [
    {
     "data": {
      "text/plain": [
       "229"
      ]
     },
     "execution_count": 50,
     "metadata": {},
     "output_type": "execute_result"
    }
   ],
   "source": [
    "len(df_tcmt_vals.values[abs(df_tcmt_vals.values) > 1000])"
   ]
  },
  {
   "cell_type": "code",
   "execution_count": 51,
   "id": "a77d447c",
   "metadata": {},
   "outputs": [],
   "source": [
    "# replace every absolute value over 1000 with nan\n",
    "df_tcmt_vals = df_tcmt_vals.mask((abs(df_tcmt_vals.values) > 1000))"
   ]
  },
  {
   "cell_type": "code",
   "execution_count": 52,
   "id": "4b7d9022",
   "metadata": {},
   "outputs": [
    {
     "data": {
      "text/plain": [
       "array([], dtype=float64)"
      ]
     },
     "execution_count": 52,
     "metadata": {},
     "output_type": "execute_result"
    }
   ],
   "source": [
    "df_tcmt_vals.values[abs(df_tcmt_vals.values) > 1000]"
   ]
  },
  {
   "cell_type": "code",
   "execution_count": 69,
   "id": "73425b45",
   "metadata": {},
   "outputs": [],
   "source": [
    "# combine time series with object again\n",
    "df_tcmt = pd.concat([df_tcmt.iloc[:,:3], df_tcmt_vals], axis=1)"
   ]
  },
  {
   "cell_type": "code",
   "execution_count": 70,
   "id": "232e9f0f",
   "metadata": {},
   "outputs": [
    {
     "data": {
      "text/plain": [
       "array([], dtype=float64)"
      ]
     },
     "execution_count": 70,
     "metadata": {},
     "output_type": "execute_result"
    }
   ],
   "source": [
    "# check if removal worked\n",
    "df_tcmt.iloc[:,3:].values[abs(df_tcmt.iloc[:,3:].values) > 1000]"
   ]
  },
  {
   "cell_type": "code",
   "execution_count": 71,
   "id": "d3c3d0d2",
   "metadata": {},
   "outputs": [],
   "source": [
    "pd.options.display.max_rows = 100\n",
    "df_tcmt.insert(3, 'segment', df_tcmt.groupby('objectid').cumcount())"
   ]
  },
  {
   "cell_type": "code",
   "execution_count": 72,
   "id": "ff5cffff",
   "metadata": {},
   "outputs": [],
   "source": [
    "def split_df_xyz(df, axis):\n",
    "    \n",
    "    # tell user the possible input if input is invalid\n",
    "    if axis not in ['X', 'Y', 'Z']:\n",
    "        print('Please enter \"X\", \"Y\", or \"Z\". Case sensitive.')\n",
    "        return\n",
    "    \n",
    "    # store object ID and x/y coordinates\n",
    "    df_axis = df[['objectid', 'X_coordinate', 'Y_coordinate', 'segment']]\n",
    "    \n",
    "    # take only columns for desired axis\n",
    "    df_dates = df[[col for i, col in enumerate(df[df.columns[3:]]) if col[0] == axis]]\n",
    "    \n",
    "    # turn column names into dates\n",
    "    df_dates.columns = df_dates.columns.str[1:]\n",
    "    \n",
    "    # return dataframe with object ID and x/y coordinate added\n",
    "    return pd.concat([df_axis, df_dates], axis=1)"
   ]
  },
  {
   "cell_type": "code",
   "execution_count": 73,
   "id": "036772ef",
   "metadata": {},
   "outputs": [],
   "source": [
    "df_X = split_df_xyz(df_tcmt, 'X')\n",
    "df_Y = split_df_xyz(df_tcmt, 'Y')\n",
    "df_Z = split_df_xyz(df_tcmt, 'Z')"
   ]
  },
  {
   "cell_type": "code",
   "execution_count": 74,
   "id": "ecc6f8b0",
   "metadata": {},
   "outputs": [],
   "source": [
    "# df_X = df_X.dropna(thresh=5)\n",
    "# df_Y = df_Y.dropna(thresh=5)\n",
    "# df_Z = df_Z.dropna(thresh=5)"
   ]
  },
  {
   "cell_type": "code",
   "execution_count": 75,
   "id": "8c56c3bb",
   "metadata": {},
   "outputs": [],
   "source": [
    "pd.options.mode.chained_assignment = None\n",
    "\n",
    "def interpolate_df(df):\n",
    "    \"\"\"\n",
    "    Function to interpolate the tacheometry values. All values are aggregated per month.\n",
    "    A month is added before the first month, all values set to zero. \n",
    "    Values for missing months are interpolated.\n",
    "    \"\"\"\n",
    "    \n",
    "    # initiate new df\n",
    "    df_new = df[['objectid', 'X_coordinate', 'Y_coordinate', 'segment']]\n",
    "    \n",
    "    # get all unique months in datetime first of that month\n",
    "    test_dates = pd.date_range(start=pd.to_datetime(df.columns[4:])[0], end=pd.to_datetime(df.columns[4:])[-1], freq='M')-pd.offsets.MonthBegin(1)\n",
    "\n",
    "    df_dates = pd.DataFrame()\n",
    "    \n",
    "    for month in test_dates:\n",
    "                        \n",
    "        # find columns of that month\n",
    "        columns = [col for col in df.columns[4:] if pd.to_datetime(col).month == month.month \\\n",
    "                   and pd.to_datetime(col).year == month.year]\n",
    "        \n",
    "        # get mean value per row and add column of month with mean value\n",
    "        df_dates[month] = df[columns].mean(axis=1)\n",
    "        \n",
    "    # fill first column with zero's if no measurement\n",
    "    df_dates.iloc[:,0] = df_dates.iloc[:,0].fillna(0)\n",
    "    \n",
    "    # interpolate untill the last measurement\n",
    "    df_dates = df_dates.interpolate(axis=1, limit_area='inside')\n",
    "    \n",
    "    return pd.concat([df_new, df_dates], axis=1)"
   ]
  },
  {
   "cell_type": "code",
   "execution_count": 76,
   "id": "2fb51322",
   "metadata": {},
   "outputs": [],
   "source": [
    "df_Z = interpolate_df(df_Z)\n",
    "df_Y = interpolate_df(df_Y)\n",
    "df_X = interpolate_df(df_X)"
   ]
  },
  {
   "cell_type": "code",
   "execution_count": 77,
   "id": "1ac9df52",
   "metadata": {},
   "outputs": [
    {
     "data": {
      "image/png": "[encoded data removed]",
      "text/plain": [
       "<Figure size 432x432 with 4 Axes>"
      ]
     },
     "metadata": {
      "needs_background": "light"
     },
     "output_type": "display_data"
    }
   ],
   "source": [
    "indices = np.random.randint(0, len(df_Y), 4)\n",
    "fig, ((ax1, ax2), (ax3, ax4)) = plt.subplots(2, 2, figsize=(6, 6))\n",
    "axes = [ax1, ax2, ax3, ax4]\n",
    "\n",
    "# plot four random time series\n",
    "for j, i in enumerate(indices):\n",
    "    df_X.iloc[i][4:].plot(ax=axes[j], title=f'{df_X.iloc[i][0]} segment {df_X.iloc[i][0][4]}')\n",
    "fig.tight_layout()\n",
    "plt.show()"
   ]
  },
  {
   "cell_type": "code",
   "execution_count": 78,
   "id": "600e1ba6",
   "metadata": {},
   "outputs": [
    {
     "data": {
      "text/plain": [
       "array([], dtype=float64)"
      ]
     },
     "execution_count": 78,
     "metadata": {},
     "output_type": "execute_result"
    }
   ],
   "source": [
    "df_Y.iloc[:,3:].values[abs(df_Y.iloc[:,3:].values) > 1000]"
   ]
  },
  {
   "cell_type": "code",
   "execution_count": 79,
   "id": "9af9ef5f",
   "metadata": {},
   "outputs": [],
   "source": [
    "df_X.index = df_X['objectid'].astype(str) + '_' + df_X['segment'].astype(str)\n",
    "df_Y.index = df_Y['objectid'].astype(str) + '_' + df_Y['segment'].astype(str)\n",
    "df_Z.index = df_Z['objectid'].astype(str) + '_' + df_Z['segment'].astype(str)"
   ]
  },
  {
   "cell_type": "code",
   "execution_count": 80,
   "id": "babb4732",
   "metadata": {},
   "outputs": [],
   "source": [
    "df_X.to_csv('../Data/TargetX.csv', index = True)\n",
    "df_Y.to_csv('../Data/TargetY.csv', index = True)\n",
    "df_X.to_csv('../Data/TargetZ.csv', index = True)"
   ]
  },
  {
   "cell_type": "code",
   "execution_count": null,
   "id": "d363862f",
   "metadata": {},
   "outputs": [],
   "source": []
  }
 ],
 "metadata": {
  "kernelspec": {
   "display_name": "Python 3 (ipykernel)",
   "language": "python",
   "name": "python3"
  },
  "language_info": {
   "codemirror_mode": {
    "name": "ipython",
    "version": 3
   },
   "file_extension": ".py",
   "mimetype": "text/x-python",
   "name": "python",
   "nbconvert_exporter": "python",
   "pygments_lexer": "ipython3",
   "version": "3.9.7"
  }
 },
 "nbformat": 4,
 "nbformat_minor": 5
}
