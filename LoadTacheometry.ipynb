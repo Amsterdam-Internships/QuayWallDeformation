{
 "cells": [
  {
   "cell_type": "markdown",
   "id": "3277b2d5",
   "metadata": {},
   "source": [
    "Notebook by Julian El-Fasih"
   ]
  },
  {
   "cell_type": "code",
   "execution_count": 1,
   "id": "0987a0dd",
   "metadata": {},
   "outputs": [],
   "source": [
    "import pandas as pd\n",
    "import numpy as np\n",
    "import os\n",
    "import datetime\n",
    "from tqdm import tqdm\n",
    "import math\n",
    "import seaborn as sns\n",
    "from dateutil.parser import parse\n",
    "import matplotlib.pyplot as plt"
   ]
  },
  {
   "cell_type": "code",
   "execution_count": 2,
   "id": "a649bd20",
   "metadata": {},
   "outputs": [],
   "source": [
    "def is_date(string):\n",
    "    \n",
    "    try: \n",
    "        parse(string)\n",
    "        return True\n",
    "\n",
    "    except ValueError:\n",
    "        return False"
   ]
  },
  {
   "cell_type": "code",
   "execution_count": 3,
   "id": "4277419d",
   "metadata": {},
   "outputs": [],
   "source": [
    "pd.options.mode.chained_assignment = None  # turn off warning message for chained assignment\n",
    "\n",
    "def load_tacheometry_data():\n",
    "    df_tcmt = pd.DataFrame()\n",
    "    for file in tqdm(os.listdir(\"../Data/Tacheometry\")):\n",
    "        \n",
    "        # extract objectid and define header\n",
    "        objectid = file[:7]\n",
    "        if objectid == 'PRG0101':\n",
    "            header = [2,3,4,5]\n",
    "        else:\n",
    "            header = [1,2,3,4]\n",
    "            \n",
    "        # read sheet with deformation time series\n",
    "        df = pd.read_excel(\"../Data/Tacheometry\" + '/' + file, sheet_name=\"Deformatiemeetpunten\", header=header)\n",
    "        df = df.fillna(\"n.g.\")\n",
    "        points = df.loc[:, \"Nulmeting\"].iloc[:,0].rename(\"\")\n",
    "        \n",
    "        # initiate dataframe with points as index\n",
    "        df_sub = pd.DataFrame(index=points)\n",
    "        \n",
    "        # extract coordinates of points\n",
    "        df_coords = pd.read_excel(\"../Data/Tacheometry\" + '/' + file, sheet_name=\"Nulmeting\", header=[1,2,3,4])\n",
    "\n",
    "        # fix for inconsistency in label name 'coordinaten'/'coördinaten'\n",
    "        if objectid in ['BRG0602', 'DYG0102', 'KZG0201', 'KZG0301', 'KZG0901', 'LEG0402', 'LYG0603', \\\n",
    "                        'LYG1001', 'OAW0602', 'OAW0701', 'OAW0702', 'OEV2491', 'SIG0605', 'SIN0501']:\n",
    "            coords = df_coords.iloc[:, (df_coords.columns.get_level_values(2)=='RD-Coordinaten (m)') | \\\n",
    "                                    (df_coords.columns.get_level_values(2)=='RD-Coördinaten (m)')].iloc[:,[0,1]]\n",
    "            coord_index = df_coords.iloc[:, df_coords.columns.get_level_values(2) == \\\n",
    "                                         'Deformatiemeetpunten'].iloc[:,0].rename(\"\")\n",
    "        else:\n",
    "            coords = df_coords.iloc[:, (df_coords.columns.get_level_values(2)=='RD-Coordinaten (m)') | \\\n",
    "                                    (df_coords.columns.get_level_values(2)=='RD-Coördinaten (m)')].iloc[:,[-2,-1]]\n",
    "            coord_index = df_coords.iloc[:, df_coords.columns.get_level_values(2) == \\\n",
    "                                         'Deformatiemeetpunten'].iloc[:,-1].rename(\"\")\n",
    "\n",
    "        coords.columns = coords.columns.droplevel([0,1,2])\n",
    "        coords = coords.set_index(coord_index).reset_index()\n",
    "        coords = coords.merge(pd.DataFrame(points), on= '', how='right').set_index('')\n",
    "\n",
    "        # extract dates of measurement\n",
    "        # for missing dates, took date between preceding and following date, inserted in excel file\n",
    "        dates = []\n",
    "        for item in df.columns.get_level_values(1):\n",
    "            if isinstance(item, datetime.date):\n",
    "                dates.append(item)\n",
    "            elif is_date(item):\n",
    "                dates.append(parse(item))\n",
    "        \n",
    "        dates = sorted(list(set(dates)))[1:]\n",
    "\n",
    "        # extract deformations\n",
    "        deformations = df.iloc[:, df.columns.get_level_values(1)=='rel tov nulmeting']\n",
    "        deformations.columns = deformations.columns.droplevel([0, 1, 2])\n",
    "        \n",
    "        for i in range(0, len(deformations.columns), 3):\n",
    "            deforms = []\n",
    "            \n",
    "            # turn deformations into tuples (dX, dY, dZ)\n",
    "            for j, deform in enumerate(deformations.iloc[:,[i,i+1,i+2]].values):\n",
    "                deforms.append(tuple(deform))\n",
    "  \n",
    "            df_sub[f'date{int(i/3)+1}'] = deforms\n",
    "\n",
    "        # add dates and point coordinates to the dataframe\n",
    "        df_sub.columns = dates\n",
    "        df_sub['objectid'] = objectid\n",
    "        df_sub['X_coordinate'] = coords['X']\n",
    "        df_sub['Y_coordinate'] = coords['Y']\n",
    "        df_tcmt = pd.concat([df_tcmt, df_sub])\n",
    "    \n",
    "    # finalize dataframe\n",
    "    sorted_dates = [date for date in df_tcmt.columns if isinstance(date, datetime.date)]\n",
    "    other_columns = [col for col in df_tcmt.columns if isinstance(col, datetime.date) == False]\n",
    "    col_order = other_columns + sorted(sorted_dates)\n",
    "    df_tcmt = df_tcmt.reindex(col_order, axis=1)\n",
    "    df_tcmt = df_tcmt.reset_index(drop=True)\n",
    "    \n",
    "    return df_tcmt"
   ]
  },
  {
   "cell_type": "code",
   "execution_count": 4,
   "id": "e6e4532e",
   "metadata": {
    "scrolled": true
   },
   "outputs": [
    {
     "name": "stderr",
     "output_type": "stream",
     "text": [
      " 21%|████████████████▋                                                                | 26/126 [00:10<00:47,  2.10it/s]C:\\Users\\julia\\AppData\\Local\\Temp/ipykernel_14912/3703224126.py:38: FutureWarning: In a future version, the Index constructor will not infer numeric dtypes when passed object-dtype sequences (matching Series behavior)\n",
      "  coords = coords.merge(pd.DataFrame(points), on= '', how='right').set_index('')\n",
      " 21%|█████████████████▎                                                               | 27/126 [00:11<00:53,  1.83it/s]C:\\Users\\julia\\AppData\\Local\\Temp/ipykernel_14912/3703224126.py:38: FutureWarning: In a future version, the Index constructor will not infer numeric dtypes when passed object-dtype sequences (matching Series behavior)\n",
      "  coords = coords.merge(pd.DataFrame(points), on= '', how='right').set_index('')\n",
      " 24%|███████████████████▎                                                             | 30/126 [00:12<00:47,  2.03it/s]C:\\Users\\julia\\AppData\\Local\\Temp/ipykernel_14912/3703224126.py:38: FutureWarning: In a future version, the Index constructor will not infer numeric dtypes when passed object-dtype sequences (matching Series behavior)\n",
      "  coords = coords.merge(pd.DataFrame(points), on= '', how='right').set_index('')\n",
      " 33%|███████████████████████████                                                      | 42/126 [00:18<00:33,  2.53it/s]C:\\Users\\julia\\AppData\\Local\\Temp/ipykernel_14912/3703224126.py:38: FutureWarning: In a future version, the Index constructor will not infer numeric dtypes when passed object-dtype sequences (matching Series behavior)\n",
      "  coords = coords.merge(pd.DataFrame(points), on= '', how='right').set_index('')\n",
      " 34%|███████████████████████████▋                                                     | 43/126 [00:19<00:45,  1.84it/s]C:\\Users\\julia\\AppData\\Local\\Temp/ipykernel_14912/3703224126.py:38: FutureWarning: In a future version, the Index constructor will not infer numeric dtypes when passed object-dtype sequences (matching Series behavior)\n",
      "  coords = coords.merge(pd.DataFrame(points), on= '', how='right').set_index('')\n",
      " 44%|███████████████████████████████████▎                                             | 55/126 [00:27<00:50,  1.40it/s]C:\\Users\\julia\\AppData\\Local\\Temp/ipykernel_14912/3703224126.py:38: FutureWarning: In a future version, the Index constructor will not infer numeric dtypes when passed object-dtype sequences (matching Series behavior)\n",
      "  coords = coords.merge(pd.DataFrame(points), on= '', how='right').set_index('')\n",
      " 44%|████████████████████████████████████                                             | 56/126 [00:28<00:45,  1.55it/s]C:\\Users\\julia\\AppData\\Local\\Temp/ipykernel_14912/3703224126.py:38: FutureWarning: In a future version, the Index constructor will not infer numeric dtypes when passed object-dtype sequences (matching Series behavior)\n",
      "  coords = coords.merge(pd.DataFrame(points), on= '', how='right').set_index('')\n",
      " 51%|█████████████████████████████████████████▏                                       | 64/126 [00:32<00:31,  1.95it/s]C:\\Users\\julia\\AppData\\Local\\Temp/ipykernel_14912/3703224126.py:38: FutureWarning: In a future version, the Index constructor will not infer numeric dtypes when passed object-dtype sequences (matching Series behavior)\n",
      "  coords = coords.merge(pd.DataFrame(points), on= '', how='right').set_index('')\n",
      " 58%|██████████████████████████████████████████████▉                                  | 73/126 [00:36<00:24,  2.17it/s]C:\\Users\\julia\\AppData\\Local\\Temp/ipykernel_14912/3703224126.py:38: FutureWarning: In a future version, the Index constructor will not infer numeric dtypes when passed object-dtype sequences (matching Series behavior)\n",
      "  coords = coords.merge(pd.DataFrame(points), on= '', how='right').set_index('')\n",
      " 79%|███████████████████████████████████████████████████████████████▋                 | 99/126 [00:52<00:16,  1.68it/s]C:\\Users\\julia\\AppData\\Local\\Temp/ipykernel_14912/3703224126.py:38: FutureWarning: In a future version, the Index constructor will not infer numeric dtypes when passed object-dtype sequences (matching Series behavior)\n",
      "  coords = coords.merge(pd.DataFrame(points), on= '', how='right').set_index('')\n",
      " 82%|█████████████████████████████████████████████████████████████████▍              | 103/126 [00:55<00:14,  1.64it/s]C:\\Users\\julia\\AppData\\Local\\Temp/ipykernel_14912/3703224126.py:38: FutureWarning: In a future version, the Index constructor will not infer numeric dtypes when passed object-dtype sequences (matching Series behavior)\n",
      "  coords = coords.merge(pd.DataFrame(points), on= '', how='right').set_index('')\n",
      "100%|████████████████████████████████████████████████████████████████████████████████| 126/126 [01:11<00:00,  1.76it/s]\n"
     ]
    }
   ],
   "source": [
    "df_tcmt = load_tacheometry_data()"
   ]
  },
  {
   "cell_type": "code",
   "execution_count": 5,
   "id": "d3534c34",
   "metadata": {
    "scrolled": false
   },
   "outputs": [],
   "source": [
    "# remove rows with missing values for coordinates\n",
    "X_missing = df_tcmt['X_coordinate'][df_tcmt['X_coordinate'].apply(lambda x: not isinstance(x, (int, float, complex)))]\n",
    "Y_missing = df_tcmt['Y_coordinate'][df_tcmt['Y_coordinate'].apply(lambda x: not isinstance(x, (int, float, complex)))]\n",
    "missing_indices = pd.concat([X_missing, Y_missing], axis=1).index\n",
    "df_tcmt = df_tcmt.drop(missing_indices, axis=0)"
   ]
  },
  {
   "cell_type": "code",
   "execution_count": 6,
   "id": "c3065485",
   "metadata": {},
   "outputs": [],
   "source": [
    "# get only coordinates for visualistation purposes\n",
    "df_tcmt_vis = df_tcmt[['objectid', 'X_coordinate', 'Y_coordinate']]"
   ]
  },
  {
   "cell_type": "code",
   "execution_count": 7,
   "id": "53b28b79",
   "metadata": {},
   "outputs": [],
   "source": [
    "df_tcmt_vis.to_csv('../Data/Tacheometry_vis.csv', index=True)"
   ]
  },
  {
   "cell_type": "code",
   "execution_count": 8,
   "id": "288a40f4",
   "metadata": {},
   "outputs": [
    {
     "name": "stderr",
     "output_type": "stream",
     "text": [
      "552it [02:18,  3.98it/s]\n"
     ]
    }
   ],
   "source": [
    "df_tcmt_raw = df_tcmt[['objectid', 'X_coordinate', 'Y_coordinate']]\n",
    "df_tcmt_split = df_tcmt[['objectid', 'X_coordinate', 'Y_coordinate']]\n",
    "\n",
    "# runs 552 iterations (2 minutes approx)\n",
    "for i, col in tqdm(enumerate(df_tcmt[df_tcmt.columns[3:]])):\n",
    "    \n",
    "    # turn NaN into tuple (nan, nan, nan)\n",
    "    df_tcmt[col] = df_tcmt[col].apply(lambda x: (np.nan, np.nan, np.nan) if x is np.nan else x)\n",
    "\n",
    "    # get column names in format X0, Y0, Z0, X1, Y1, Z1 etc.\n",
    "    df_tcmt_split[f'X{int(i)}'], df_tcmt_split[f'Y{int(i)}'], df_tcmt_split[f'Z{int(i)}'] = zip(*df_tcmt[col])\n",
    "    df_tcmt_split = df_tcmt_split.copy()\n",
    "    \n",
    "    # get column names in format X{date}, Y{date}, Z{date}\n",
    "    df_tcmt_raw[f'X{df_tcmt.columns[3+i]}'], df_tcmt_raw[f'Y{df_tcmt.columns[3+i]}'], \\\n",
    "                                                df_tcmt_raw[f'Z{df_tcmt.columns[3+i]}'] = zip(*df_tcmt[col])\n",
    "    df_tcmt_raw = df_tcmt_raw.copy()"
   ]
  },
  {
   "cell_type": "code",
   "execution_count": 9,
   "id": "cd93ad9c",
   "metadata": {},
   "outputs": [
    {
     "name": "stdout",
     "output_type": "stream",
     "text": [
      "{'ng', 'n.g', 'g.v.m', 'n.v.t..', 'n.g.', 'NULM', 'n.v.t.', 'vervallen', 'n,g,'}\n"
     ]
    }
   ],
   "source": [
    "# check which non numeric and non-nan values are in df\n",
    "non_numerics = []\n",
    "\n",
    "for col in df_tcmt_split.columns[3:]:\n",
    "    non_numerics += [value for value in df_tcmt_split[col].unique() if not isinstance(value, (int, float, complex))]\n",
    "\n",
    "non_numerics = set(non_numerics)\n",
    "print(non_numerics)"
   ]
  },
  {
   "cell_type": "code",
   "execution_count": 10,
   "id": "51851797",
   "metadata": {},
   "outputs": [],
   "source": [
    "# replace those with nan\n",
    "df_tcmt_split = df_tcmt_split.replace(non_numerics, np.NaN)\n",
    "df_tcmt_raw = df_tcmt_raw.replace(non_numerics, np.NaN)"
   ]
  },
  {
   "cell_type": "code",
   "execution_count": 11,
   "id": "df2673cf",
   "metadata": {},
   "outputs": [],
   "source": [
    "# remove rows with missing values for coordinates\n",
    "missing_X = df_tcmt_split[df_tcmt_split['X_coordinate'].isna()]\n",
    "missing_Y = df_tcmt_split[df_tcmt_split['Y_coordinate'].isna()]\n",
    "missing_indices = pd.concat([missing_X, missing_Y], axis=1).index\n",
    "df_tcmt_split = df_tcmt_split.drop(missing_indices, axis=0)\n",
    "df_tcmt_raw = df_tcmt_raw.drop(missing_indices, axis=0)"
   ]
  },
  {
   "cell_type": "code",
   "execution_count": 12,
   "id": "d9fe6148",
   "metadata": {},
   "outputs": [],
   "source": [
    "df_tcmt_split.to_csv('../Data/Tacheometry.csv', index=True)"
   ]
  },
  {
   "cell_type": "code",
   "execution_count": 13,
   "id": "0d874944",
   "metadata": {},
   "outputs": [],
   "source": [
    "df_tcmt_raw.to_csv('../Data/Tacheometry_raw.csv', index=True)"
   ]
  }
 ],
 "metadata": {
  "kernelspec": {
   "display_name": "Python 3 (ipykernel)",
   "language": "python",
   "name": "python3"
  },
  "language_info": {
   "codemirror_mode": {
    "name": "ipython",
    "version": 3
   },
   "file_extension": ".py",
   "mimetype": "text/x-python",
   "name": "python",
   "nbconvert_exporter": "python",
   "pygments_lexer": "ipython3",
   "version": "3.9.7"
  }
 },
 "nbformat": 4,
 "nbformat_minor": 5
}
